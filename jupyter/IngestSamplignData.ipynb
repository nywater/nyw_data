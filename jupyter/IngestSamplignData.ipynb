{
 "cells": [
  {
   "cell_type": "code",
   "execution_count": 17,
   "metadata": {},
   "outputs": [],
   "source": [
    "import json\n",
    "import pandas as pd\n",
    "import numpy as np\n",
    "from collections import OrderedDict\n",
    "from itertools import groupby\n",
    "from datetime import datetime\n",
    "from pymongo import MongoClient"
   ]
  },
  {
   "cell_type": "code",
   "execution_count": 2,
   "metadata": {},
   "outputs": [],
   "source": [
    "# Connect\n",
    "client = MongoClient(\"mongodb://mongo:27017\")\n",
    "\n",
    "# Connect to `nywater` database\n",
    "db = client['nywater']"
   ]
  },
  {
   "cell_type": "code",
   "execution_count": 75,
   "metadata": {},
   "outputs": [],
   "source": [
    "# Import water_sampling.csv\n",
    "water_sampling_df = pd.read_csv('water_sampling.csv')\n",
    "water_sampling_df = water_sampling_df.replace(np.nan, 0)"
   ]
  },
  {
   "cell_type": "code",
   "execution_count": 69,
   "metadata": {
    "scrolled": true
   },
   "outputs": [
    {
     "data": {
      "text/html": [
       "<div>\n",
       "<table border=\"1\" class=\"dataframe\">\n",
       "  <thead>\n",
       "    <tr style=\"text-align: right;\">\n",
       "      <th></th>\n",
       "      <th>School District</th>\n",
       "      <th>School</th>\n",
       "      <th>County</th>\n",
       "      <th>Type of Organization</th>\n",
       "      <th>Number of Outlets</th>\n",
       "      <th>Any Buildings with Lead-Free Plumbing?</th>\n",
       "      <th>Previously Sampled Outlets</th>\n",
       "      <th>Outlets Waiver Requested</th>\n",
       "      <th>Waivers Granted</th>\n",
       "      <th>Outlets Sampled After Regulation</th>\n",
       "      <th>...</th>\n",
       "      <th>School Website</th>\n",
       "      <th>BEDS Code</th>\n",
       "      <th>School Street</th>\n",
       "      <th>School City</th>\n",
       "      <th>School State</th>\n",
       "      <th>School Zip Code</th>\n",
       "      <th>Date Sampling Updated</th>\n",
       "      <th>Date Results Updated</th>\n",
       "      <th>County Location</th>\n",
       "      <th>Location</th>\n",
       "    </tr>\n",
       "  </thead>\n",
       "  <tbody>\n",
       "    <tr>\n",
       "      <th>0</th>\n",
       "      <td>ALBANY CITY SCHOOL DISTRICT</td>\n",
       "      <td>WEST HILL MIDDLE SCHOOL</td>\n",
       "      <td>Albany</td>\n",
       "      <td>Public School</td>\n",
       "      <td>50.0</td>\n",
       "      <td>No</td>\n",
       "      <td>0.0</td>\n",
       "      <td>0.0</td>\n",
       "      <td>0.0</td>\n",
       "      <td>50.0</td>\n",
       "      <td>...</td>\n",
       "      <td>http://www.albanyschools.com/</td>\n",
       "      <td>010100010046</td>\n",
       "      <td>NaN</td>\n",
       "      <td>NaN</td>\n",
       "      <td>NaN</td>\n",
       "      <td>NaN</td>\n",
       "      <td>11/16/2016</td>\n",
       "      <td>12/07/2016</td>\n",
       "      <td>(42.678066, -73.814233)</td>\n",
       "      <td>NaN</td>\n",
       "    </tr>\n",
       "    <tr>\n",
       "      <th>1</th>\n",
       "      <td>BOCES No District Name</td>\n",
       "      <td>ORLEANS NIAGARA BOCES SANBORN WEST NIAGARA BLD...</td>\n",
       "      <td>Orleans</td>\n",
       "      <td>BOCES School</td>\n",
       "      <td>NaN</td>\n",
       "      <td>No</td>\n",
       "      <td>NaN</td>\n",
       "      <td>NaN</td>\n",
       "      <td>NaN</td>\n",
       "      <td>NaN</td>\n",
       "      <td>...</td>\n",
       "      <td>NaN</td>\n",
       "      <td>459000000007</td>\n",
       "      <td>NaN</td>\n",
       "      <td>NaN</td>\n",
       "      <td>NaN</td>\n",
       "      <td>NaN</td>\n",
       "      <td>NaN</td>\n",
       "      <td>NaN</td>\n",
       "      <td>(43.248394, -78.218438)</td>\n",
       "      <td>NaN</td>\n",
       "    </tr>\n",
       "    <tr>\n",
       "      <th>2</th>\n",
       "      <td>BOCES No District Name</td>\n",
       "      <td>WESTCHESTER BOCES RYE LAKE BUILDING G (LEAD ONLY)</td>\n",
       "      <td>Westchester</td>\n",
       "      <td>BOCES School</td>\n",
       "      <td>NaN</td>\n",
       "      <td>No</td>\n",
       "      <td>NaN</td>\n",
       "      <td>NaN</td>\n",
       "      <td>NaN</td>\n",
       "      <td>NaN</td>\n",
       "      <td>...</td>\n",
       "      <td>NaN</td>\n",
       "      <td>669000000048</td>\n",
       "      <td>NaN</td>\n",
       "      <td>NaN</td>\n",
       "      <td>NaN</td>\n",
       "      <td>NaN</td>\n",
       "      <td>NaN</td>\n",
       "      <td>NaN</td>\n",
       "      <td>(41.039278, -73.805386)</td>\n",
       "      <td>NaN</td>\n",
       "    </tr>\n",
       "    <tr>\n",
       "      <th>3</th>\n",
       "      <td>BUFFALO CITY SCHOOLS</td>\n",
       "      <td>PS 200 BENNETT HIGH SCHOOL</td>\n",
       "      <td>Erie</td>\n",
       "      <td>Public School</td>\n",
       "      <td>161.0</td>\n",
       "      <td>No</td>\n",
       "      <td>0.0</td>\n",
       "      <td>0.0</td>\n",
       "      <td>0.0</td>\n",
       "      <td>161.0</td>\n",
       "      <td>...</td>\n",
       "      <td>http://www.buffaloschools.org</td>\n",
       "      <td>140600010099</td>\n",
       "      <td>NaN</td>\n",
       "      <td>NaN</td>\n",
       "      <td>NaN</td>\n",
       "      <td>NaN</td>\n",
       "      <td>01/20/2017</td>\n",
       "      <td>01/20/2017</td>\n",
       "      <td>(42.888143, -78.795544)</td>\n",
       "      <td>NaN</td>\n",
       "    </tr>\n",
       "    <tr>\n",
       "      <th>4</th>\n",
       "      <td>CENTRAL SQUARE CENTRAL SCHOOL</td>\n",
       "      <td>CENTRAL SQUARE INTERMEDIATE SCHOOL</td>\n",
       "      <td>Oswego</td>\n",
       "      <td>Public School</td>\n",
       "      <td>87.0</td>\n",
       "      <td>No</td>\n",
       "      <td>32.0</td>\n",
       "      <td>0.0</td>\n",
       "      <td>0.0</td>\n",
       "      <td>50.0</td>\n",
       "      <td>...</td>\n",
       "      <td>http://www.cssd.org/</td>\n",
       "      <td>460801060003</td>\n",
       "      <td>NaN</td>\n",
       "      <td>NaN</td>\n",
       "      <td>NaN</td>\n",
       "      <td>NaN</td>\n",
       "      <td>11/08/2016</td>\n",
       "      <td>11/08/2016</td>\n",
       "      <td>(43.39123, -76.31133)</td>\n",
       "      <td>NaN</td>\n",
       "    </tr>\n",
       "  </tbody>\n",
       "</table>\n",
       "<p>5 rows × 27 columns</p>\n",
       "</div>"
      ],
      "text/plain": [
       "                 School District  \\\n",
       "0    ALBANY CITY SCHOOL DISTRICT   \n",
       "1         BOCES No District Name   \n",
       "2         BOCES No District Name   \n",
       "3           BUFFALO CITY SCHOOLS   \n",
       "4  CENTRAL SQUARE CENTRAL SCHOOL   \n",
       "\n",
       "                                              School       County  \\\n",
       "0                            WEST HILL MIDDLE SCHOOL       Albany   \n",
       "1  ORLEANS NIAGARA BOCES SANBORN WEST NIAGARA BLD...      Orleans   \n",
       "2  WESTCHESTER BOCES RYE LAKE BUILDING G (LEAD ONLY)  Westchester   \n",
       "3                         PS 200 BENNETT HIGH SCHOOL         Erie   \n",
       "4                 CENTRAL SQUARE INTERMEDIATE SCHOOL       Oswego   \n",
       "\n",
       "  Type of Organization  Number of Outlets  \\\n",
       "0        Public School               50.0   \n",
       "1         BOCES School                NaN   \n",
       "2         BOCES School                NaN   \n",
       "3        Public School              161.0   \n",
       "4        Public School               87.0   \n",
       "\n",
       "  Any Buildings with Lead-Free Plumbing?  Previously Sampled Outlets  \\\n",
       "0                                     No                         0.0   \n",
       "1                                     No                         NaN   \n",
       "2                                     No                         NaN   \n",
       "3                                     No                         0.0   \n",
       "4                                     No                        32.0   \n",
       "\n",
       "   Outlets Waiver Requested  Waivers Granted  \\\n",
       "0                       0.0              0.0   \n",
       "1                       NaN              NaN   \n",
       "2                       NaN              NaN   \n",
       "3                       0.0              0.0   \n",
       "4                       0.0              0.0   \n",
       "\n",
       "   Outlets Sampled After Regulation   ...                  School Website\\t  \\\n",
       "0                              50.0   ...     http://www.albanyschools.com/   \n",
       "1                               NaN   ...                               NaN   \n",
       "2                               NaN   ...                               NaN   \n",
       "3                             161.0   ...     http://www.buffaloschools.org   \n",
       "4                              50.0   ...              http://www.cssd.org/   \n",
       "\n",
       "      BEDS Code  School Street   School City School State School Zip Code  \\\n",
       "0  010100010046             NaN          NaN          NaN             NaN   \n",
       "1  459000000007             NaN          NaN          NaN             NaN   \n",
       "2  669000000048             NaN          NaN          NaN             NaN   \n",
       "3  140600010099             NaN          NaN          NaN             NaN   \n",
       "4  460801060003             NaN          NaN          NaN             NaN   \n",
       "\n",
       "  Date Sampling Updated Date Results Updated          County Location Location  \n",
       "0            11/16/2016           12/07/2016  (42.678066, -73.814233)      NaN  \n",
       "1                   NaN                  NaN  (43.248394, -78.218438)      NaN  \n",
       "2                   NaN                  NaN  (41.039278, -73.805386)      NaN  \n",
       "3            01/20/2017           01/20/2017  (42.888143, -78.795544)      NaN  \n",
       "4            11/08/2016           11/08/2016    (43.39123, -76.31133)      NaN  \n",
       "\n",
       "[5 rows x 27 columns]"
      ]
     },
     "execution_count": 69,
     "metadata": {},
     "output_type": "execute_result"
    }
   ],
   "source": [
    "water_sampling_df.head()"
   ]
  },
  {
   "cell_type": "code",
   "execution_count": 32,
   "metadata": {},
   "outputs": [],
   "source": [
    "# Sanitizes school name\n",
    "def sanitizeName(name):\n",
    "    name = str(name).strip().title().replace(' (Lead Only)', '')\n",
    "    name = name.replace('H S', 'High School')\n",
    "    name = name.replace('E S', 'Elementary School')\n",
    "    name = name.replace('Es', 'Elementary School')\n",
    "    name = name.replace('Hs', 'High School')\n",
    "    name = name.replace('Ms', 'Middle School')\n",
    "    name = name.replace('Elem School', 'Elementary School')\n",
    "    name = name.replace('P S ', 'PS #')\n",
    "    \n",
    "    return name"
   ]
  },
  {
   "cell_type": "code",
   "execution_count": 73,
   "metadata": {},
   "outputs": [
    {
     "name": "stdout",
     "output_type": "stream",
     "text": [
      "Processing water_sampling.csv...\n"
     ]
    },
    {
     "ename": "ValueError",
     "evalue": "cannot convert float NaN to integer",
     "output_type": "error",
     "traceback": [
      "\u001b[0;31m---------------------------------------------------------------------------\u001b[0m",
      "\u001b[0;31mValueError\u001b[0m                                Traceback (most recent call last)",
      "\u001b[0;32m<ipython-input-73-d343e85a2d01>\u001b[0m in \u001b[0;36m<module>\u001b[0;34m()\u001b[0m\n\u001b[1;32m     20\u001b[0m             \u001b[0;34m'state'\u001b[0m\u001b[0;34m:\u001b[0m \u001b[0mstr\u001b[0m\u001b[0;34m(\u001b[0m\u001b[0mdata\u001b[0m\u001b[0;34m[\u001b[0m\u001b[0;34m'School State'\u001b[0m\u001b[0;34m]\u001b[0m\u001b[0;34m)\u001b[0m\u001b[0;34m.\u001b[0m\u001b[0mstrip\u001b[0m\u001b[0;34m(\u001b[0m\u001b[0;34m)\u001b[0m\u001b[0;34m.\u001b[0m\u001b[0mtitle\u001b[0m\u001b[0;34m(\u001b[0m\u001b[0;34m)\u001b[0m\u001b[0;34m,\u001b[0m\u001b[0;34m\u001b[0m\u001b[0m\n\u001b[1;32m     21\u001b[0m             \u001b[0;34m'county'\u001b[0m\u001b[0;34m:\u001b[0m \u001b[0mstr\u001b[0m\u001b[0;34m(\u001b[0m\u001b[0mdata\u001b[0m\u001b[0;34m[\u001b[0m\u001b[0;34m'County'\u001b[0m\u001b[0;34m]\u001b[0m\u001b[0;34m)\u001b[0m\u001b[0;34m.\u001b[0m\u001b[0mstrip\u001b[0m\u001b[0;34m(\u001b[0m\u001b[0;34m)\u001b[0m\u001b[0;34m.\u001b[0m\u001b[0mtitle\u001b[0m\u001b[0;34m(\u001b[0m\u001b[0;34m)\u001b[0m\u001b[0;34m,\u001b[0m\u001b[0;34m\u001b[0m\u001b[0m\n\u001b[0;32m---> 22\u001b[0;31m             \u001b[0;34m'zip_code'\u001b[0m\u001b[0;34m:\u001b[0m \u001b[0mstr\u001b[0m\u001b[0;34m(\u001b[0m\u001b[0mint\u001b[0m\u001b[0;34m(\u001b[0m\u001b[0mdata\u001b[0m\u001b[0;34m[\u001b[0m\u001b[0;34m'School Zip Code'\u001b[0m\u001b[0;34m]\u001b[0m\u001b[0;34m)\u001b[0m\u001b[0;34m)\u001b[0m\u001b[0;34m.\u001b[0m\u001b[0mstrip\u001b[0m\u001b[0;34m(\u001b[0m\u001b[0;34m)\u001b[0m\u001b[0;34m.\u001b[0m\u001b[0mtitle\u001b[0m\u001b[0;34m(\u001b[0m\u001b[0;34m)\u001b[0m\u001b[0;34m\u001b[0m\u001b[0m\n\u001b[0m\u001b[1;32m     23\u001b[0m         },\n\u001b[1;32m     24\u001b[0m         \u001b[0;34m'sector'\u001b[0m\u001b[0;34m:\u001b[0m \u001b[0mstr\u001b[0m\u001b[0;34m(\u001b[0m\u001b[0mdata\u001b[0m\u001b[0;34m[\u001b[0m\u001b[0;34m'Type of Organization'\u001b[0m\u001b[0;34m]\u001b[0m\u001b[0;34m)\u001b[0m\u001b[0;34m.\u001b[0m\u001b[0mstrip\u001b[0m\u001b[0;34m(\u001b[0m\u001b[0;34m)\u001b[0m\u001b[0;34m.\u001b[0m\u001b[0mtitle\u001b[0m\u001b[0;34m(\u001b[0m\u001b[0;34m)\u001b[0m\u001b[0;34m,\u001b[0m\u001b[0;34m\u001b[0m\u001b[0m\n",
      "\u001b[0;31mValueError\u001b[0m: cannot convert float NaN to integer"
     ]
    }
   ],
   "source": [
    "# Stores all schools\n",
    "results = dict()\n",
    "\n",
    "# Logs\n",
    "print('Processing water_sampling.csv...')\n",
    "\n",
    "# Iterates over each row in the water sampling dataframe\n",
    "for row in water_sampling_df.iterrows():\n",
    "    index, data = row\n",
    "    \n",
    "    # Defines newSchool\n",
    "    # TODO - add more attributes here...\n",
    "    newSchool = dict({\n",
    "        'name': sanitizeName(data['School']),\n",
    "        'beds_code': str(data['BEDS Code']).strip().title(),\n",
    "        'district': str(data['School District']).strip().title(),\n",
    "        'address': {\n",
    "            #'street': str(data['School Street']).strip().title(),\n",
    "            'city': str(data['School City']).strip().title(),\n",
    "            'state': str(data['School State']).strip().title(),\n",
    "            'county': str(data['County']).strip().title(),\n",
    "            'zip_code': str(int(data['School Zip Code'])).strip().title()\n",
    "        },\n",
    "        'sector': str(data['Type of Organization']).strip().title(),\n",
    "        'outlets': str(data['Number of Outlets']).strip().title(),\n",
    "        'lead_free': str(data['Any Buildings with Lead-Free Plumbing?']).strip().title(),\n",
    "        'outlets_sampled_pre_2016': str(data['Previously Sampled Outlets']).strip().title(),\n",
    "        'outlet_waivers_requested': str(data['Outlets Waiver Requested']).strip().title(),\n",
    "        'outlet_waivers_granted': str(data['Waivers Granted']).strip().title(),\n",
    "        'outlets_sampled_post_regulation': str(data['Outlets Sampled After Regulation']).strip().title(),\n",
    "        'sampling_completed': str(data['Sampling Complete']).strip().title(),\n",
    "        'sampling_completed_date': str(data['Sampling Completion Date']).strip().title(),\n",
    "        'outlets_leq_15ppb': str(data['Number of Outlets, Result ≤ 15 ppb']).strip().title(),\n",
    "        'outlets_gt_15ppb': str(data['Number of Outlets, Result > 15 ppb']).strip().title(),\n",
    "        'out_of_service': str(data['Out of Service']).strip().title(),\n",
    "        #'all_results_received': str(data['All Results Received']).strip().title(),\n",
    "        'all_results_received_date': str(data['Date All Results Received']).strip().title(),\n",
    "        #'website': data['School Website'],\n",
    "        'sampling_update_date': str(data['Date Sampling Updated']).strip().title(),\n",
    "        'results_update_date': str(data['Date Results Updated']).strip().title(),\n",
    "        'county_coords': str(data['County Location']).strip().title(),\n",
    "        'coords': str(data['Location']).strip().title().replace('(', '').replace(')', '').split(', ')\n",
    "    })\n",
    "    \n",
    "    \n",
    "    # Adds the school to our complete list\n",
    "    results[str(data['BEDS Code']).strip()] = newSchool\n",
    "\n",
    "# Logs\n",
    "print('Done processing Water Sampling...')"
   ]
  },
  {
   "cell_type": "code",
   "execution_count": 92,
   "metadata": {},
   "outputs": [],
   "source": [
    "# import matplotlib.pyplot as plt\n",
    "# pd.options.display.mpl_style = 'default'\n",
    "# water_sampling_df.hist()"
   ]
  },
  {
   "cell_type": "code",
   "execution_count": 40,
   "metadata": {},
   "outputs": [],
   "source": [
    "# results"
   ]
  },
  {
   "cell_type": "code",
   "execution_count": 38,
   "metadata": {},
   "outputs": [
    {
     "data": {
      "text/plain": [
       "4662"
      ]
     },
     "execution_count": 38,
     "metadata": {},
     "output_type": "execute_result"
    }
   ],
   "source": [
    "len(results)"
   ]
  },
  {
   "cell_type": "code",
   "execution_count": 71,
   "metadata": {},
   "outputs": [],
   "source": [
    "# Generates some statistics\n",
    "# water_sampling_df[\"Number of Outlets, Result > 15 ppb\"].unique()\n",
    "# water_sampling_df[\"School Website\"].unique()"
   ]
  },
  {
   "cell_type": "code",
   "execution_count": 57,
   "metadata": {},
   "outputs": [
    {
     "name": "stdout",
     "output_type": "stream",
     "text": [
      "Wrote Schools to MongoDb...\n"
     ]
    }
   ],
   "source": [
    "# Iterates over each School and inserts it into Mongo\n",
    "for k, v in results.items():\n",
    "    db['schools'].insert_one(v)\n",
    "#     print(json.dumps(v, indent=2)) \n",
    "\n",
    "# Logs..\n",
    "print('Wrote Schools to MongoDb...')"
   ]
  },
  {
   "cell_type": "code",
   "execution_count": null,
   "metadata": {},
   "outputs": [],
   "source": []
  }
 ],
 "metadata": {
  "kernelspec": {
   "display_name": "Python 3",
   "language": "python",
   "name": "python3"
  },
  "language_info": {
   "codemirror_mode": {
    "name": "ipython",
    "version": 3
   },
   "file_extension": ".py",
   "mimetype": "text/x-python",
   "name": "python",
   "nbconvert_exporter": "python",
   "pygments_lexer": "ipython3",
   "version": "3.6.5"
  }
 },
 "nbformat": 4,
 "nbformat_minor": 2
}
